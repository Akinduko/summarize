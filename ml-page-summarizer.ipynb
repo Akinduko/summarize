{
 "cells": [
  {
   "cell_type": "code",
   "execution_count": 7,
   "metadata": {},
   "outputs": [
    {
     "name": "stdout",
     "output_type": "stream",
     "text": [
      "\n",
      "\n",
      "LSA Ozsoy:\n",
      "\n",
      "ZambiBush Resort is a popular place for a family day out with lots of swimming pools, water slides, kids playgrounds, and plenty of other kids entertainment.\n",
      "One of the best family resorts in Pretoria, ZambiBush specialises in family celebrations and kids birthday parties and can organise everything you need to make the day special such as party packs and entertainers.\n",
      "ZambiBush Resort is set across lush gardens and lawns which face onto a local dam.\n",
      "Within the resort are a number of separate children venues to entertain children while parents relax and enjoy a meal.\n",
      "You can relax at one of our, 34 Lapas situated all around the pools, with tables, chairs and braai facilities.\n",
      "\n",
      "\n",
      "LSA Steinberger:\n",
      "\n",
      "ZambiBush Resort is a popular place for a family day out with lots of swimming pools, water slides, kids playgrounds, and plenty of other kids entertainment.\n",
      "One of the best family resorts in Pretoria, ZambiBush specialises in family celebrations and kids birthday parties and can organise everything you need to make the day special such as party packs and entertainers.\n",
      "ZambiBush Resort is set across lush gardens and lawns which face onto a local dam.\n",
      "Within the resort are a number of separate children venues to entertain children while parents relax and enjoy a meal.\n",
      "You can relax at one of our, 34 Lapas situated all around the pools, with tables, chairs and braai facilities.\n",
      "\n",
      "\n",
      "Relevance:\n",
      "\n",
      "One of the best family resorts in Pretoria, ZambiBush specialises in family celebrations and kids birthday parties and can organise everything you need to make the day special such as party packs and entertainers.\n",
      "Within the resort are a number of separate children venues to entertain children while parents relax and enjoy a meal.\n",
      "The resort offers ideal options for weekend getaways in Gauteng.\n",
      "You can relax at one of our, 34 Lapas situated all around the pools, with tables, chairs and braai facilities.\n",
      "We are an excellent choice for school outings and also cater for toddler school outings.\n",
      "\n",
      "\n",
      "TextRank:\n",
      "\n",
      "ZambiBush Resort is a popular place for a family day out with lots of swimming pools, water slides, kids playgrounds, and plenty of other kids entertainment.\n",
      "One of the best family resorts in Pretoria, ZambiBush specialises in family celebrations and kids birthday parties and can organise everything you need to make the day special such as party packs and entertainers.\n",
      "ZambiBush Resort offers lovely options for kids parties.\n",
      "Within the resort are a number of separate children venues to entertain children while parents relax and enjoy a meal.\n",
      "We are an excellent choice for school outings and also cater for toddler school outings.\n"
     ]
    }
   ],
   "source": [
    "from pytldr.summarize.lsa import LsaOzsoy, LsaSteinberger\n",
    "from pytldr.summarize.relevance import RelevanceSummarizer\n",
    "from pytldr.summarize.textrank import TextRankSummarizer\n",
    "\n",
    "if __name__ == \"__main__\":\n",
    "    txt = \"\"\"ZambiBush Resort is a popular place for a family day out with lots of swimming pools, water slides, kids playgrounds, and plenty of other kids entertainment. One of the best family resorts in Pretoria, ZambiBush specialises in family celebrations and kids birthday parties and can organise everything you need to make the day special such as party packs and entertainers.  ZambiBush Resort offers lovely options for kids parties.\n",
    "\n",
    "ZambiBush Resort is set across lush gardens and lawns which face onto a local dam. Within the resort are a number of separate children venues to entertain children while parents relax and enjoy a meal. The resort offers ideal options for weekend getaways in Gauteng.\n",
    "\n",
    "You can relax at one of our, 34 Lapas situated all around the pools, with tables, chairs and braai facilities. We have a shop with refreshments and take-aways.\n",
    "\n",
    "We are an excellent choice for school outings and also cater for toddler school outings. We have special rates and food combos for school\"\"\"\n",
    "   \n",
    "\n",
    "    lsa_o = LsaOzsoy()\n",
    "    lsa_s = LsaSteinberger()\n",
    "    relevance = RelevanceSummarizer()\n",
    "    textrank = TextRankSummarizer()\n",
    "\n",
    "    print '\\n\\nLSA Ozsoy:\\n'\n",
    "    summary = lsa_o.summarize(txt, length=5)\n",
    "\n",
    "    for sentence in summary:\n",
    "        print sentence\n",
    "\n",
    "    print '\\n\\nLSA Steinberger:\\n'\n",
    "    summary = lsa_s.summarize(txt, length=5)\n",
    "\n",
    "    for sentence in summary:\n",
    "        print sentence\n",
    "\n",
    "    print '\\n\\nRelevance:\\n'\n",
    "    summary = relevance.summarize(txt, length=5)\n",
    "\n",
    "    for sentence in summary:\n",
    "        print sentence\n",
    "\n",
    "    print '\\n\\nTextRank:\\n'\n",
    "    summary = textrank.summarize(txt, length=5)\n",
    "\n",
    "    for sentence in summary:\n",
    "        print sentence"
   ]
  }
 ],
 "metadata": {
  "kernelspec": {
   "display_name": "Python 2",
   "language": "python",
   "name": "python2"
  },
  "language_info": {
   "codemirror_mode": {
    "name": "ipython",
    "version": 2
   },
   "file_extension": ".py",
   "mimetype": "text/x-python",
   "name": "python",
   "nbconvert_exporter": "python",
   "pygments_lexer": "ipython2",
   "version": "2.7.15"
  }
 },
 "nbformat": 4,
 "nbformat_minor": 2
}
